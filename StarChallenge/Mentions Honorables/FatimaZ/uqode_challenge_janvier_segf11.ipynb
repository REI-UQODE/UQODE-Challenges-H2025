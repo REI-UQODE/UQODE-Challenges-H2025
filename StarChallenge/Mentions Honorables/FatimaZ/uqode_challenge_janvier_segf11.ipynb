{
 "cells": [
  {
   "cell_type": "markdown",
   "id": "9d44a011",
   "metadata": {},
   "source": [
    "<div style=\"background-color: #ffe3ec; padding: 20px; border-radius: 15px; border: 1px solid #ddd; font-family: 'Comic Sans MS', cursive, sans-serif; line-height: 1.6;\">\n",
    "\n",
    "<h1 style=\"color: #333; text-align: center; font-size: 30px; font-family: 'Comic Sans MS', cursive, sans-serif;\">One line Solution !</h1>\n",
    "\n",
    "</div>"
   ]
  },
  {
   "cell_type": "code",
   "execution_count": 106,
   "id": "0283cb23",
   "metadata": {},
   "outputs": [
    {
     "name": "stdout",
     "output_type": "stream",
     "text": [
      "                                                    \n",
      "**    **    ****        ****    ******    ********  \n",
      "**    **  **    **    **    **  **    **  **        \n",
      "**    **  **  ****    **    **  **    **  ******    \n",
      "**    **  **    **    **    **  **    **  **        \n",
      "  ****      ****  **    ****    ******    ********  \n",
      "                                                    \n",
      "                                                    \n",
      "\n"
     ]
    }
   ],
   "source": [
    "import pyfiglet\n",
    "print(''.join(\" \" if char==' ' else '\\n' if char=='\\n' else \"*\" for char in pyfiglet.figlet_format(\"UQODE\", font=\"block\")))"
   ]
  },
  {
   "cell_type": "markdown",
   "id": "7ed5fdc0",
   "metadata": {},
   "source": [
    "<div style=\"background-color: #ffe3ec; padding: 20px; border-radius: 15px; border: 1px solid #ddd; font-family: 'Comic Sans MS', cursive, sans-serif; line-height: 1.6;\">\n",
    "\n",
    "<h1 style=\"color: #333; text-align: center; font-size: 30px; font-family: 'Comic Sans MS', cursive, sans-serif;\">✨ Pourquoi ma solution est la meilleure ✨</h1>\n",
    "\n",
    "<p style=\"font-size: 18px; color: #333;\">J’ai pensé à toutes les solutions possibles, comme utiliser un dictionnaire pour mapper chaque lettre avec des tableaux, des boucles et des conditions.  \n",
    "Mais ensuite, je me suis dit : <em>eh, ce n’est pas ça, le vrai but du code</em> (et puis, soyons honnêtes, d’autres ont sûrement eu la même idée, donc pas hyper créatif 🤷🏻‍♀️).  <br/>\n",
    "Le codage, c’est réutiliser, faire la tâche avec le moins de ressources possible, de la manière la plus rapide, simple et efficace.  \n",
    "Parfois, recycler, c’est la meilleure option.</p>\n",
    "\n",
    "<h2 style=\"color: #666; font-size: 22px;\">Voici pourquoi ma solution est la meilleure :</h2>\n",
    "\n",
    "<ul style=\"font-size: 18px;\">\n",
    "  <li><strong>C'est une ligne, duh.</strong></li>\n",
    "  <li>Créative et intelligente.</li>\n",
    "  <li>Simple et lisible.</li>\n",
    "  <li>respecte toutes les contraintes imposées.</li>\n",
    "  <li>Meilleure pour la mémoire et plus rapide à exécuter.</li>\n",
    "  <li>Gestion des caractères spéciaux en dehors de l'alphabet.</li>\n",
    "  <li>Toujours un défi, car j'ai dû modifier l'art ASCII pour l'adapter au motif étoilé.</li>\n",
    "</ul>\n",
    "\n",
    "</div>"
   ]
  },
  {
   "cell_type": "code",
   "execution_count": 107,
   "id": "c6336d53",
   "metadata": {},
   "outputs": [
    {
     "name": "stdout",
     "output_type": "stream",
     "text": [
      "                                      \n",
      "**    **            **  **            \n",
      "**    **    ****    **  **    ****    \n",
      "********  ********  **  **  **    **  \n",
      "**    **  **        **  **  **    **  \n",
      "**    **    ******  **  **    ****    \n",
      "                                      \n",
      "                                      \n",
      "                                                  \n",
      "**          **                      **        **  \n",
      "**          **    ****    **  ****  **    ******  \n",
      "**    **    **  **    **  ****      **  **    **  \n",
      "  **  **  **    **    **  **        **  **    **  \n",
      "    **  **        ****    **        **    ******  \n",
      "                                                  \n",
      "                                                  \n",
      "\n"
     ]
    }
   ],
   "source": [
    "# Hello World\n",
    "import pyfiglet\n",
    "print(''.join(\" \" if char == ' ' else '\\n' if char == '\\n' else \"*\" for char in\n",
    "              pyfiglet.figlet_format(\"Hello World\", font=\"block\")))"
   ]
  },
  {
   "cell_type": "markdown",
   "id": "c96a860d",
   "metadata": {},
   "source": [
    "<div style=\"background-color: #ffe3ec; padding: 20px; border-radius: 15px; border: 1px solid #ddd; font-family: 'Comic Sans MS', cursive, sans-serif; line-height: 1.6;\">\n",
    "  <h1 style=\"color: #333; text-align: center; font-size: 28px;\">Explication du code</h1>\n",
    "\n",
    "  <p style=\"background-color: #fafafa; padding: 10px; border-radius: 5px; font-family: 'Courier New', monospace; font-weight: bold; color: #333;\">\n",
    "    <span style=\"color: #0077b6;\">import</span> <span style=\"color: #d00000;\">pyfiglet</span>\n",
    "  </p>\n",
    "  <p style=\"font-size: 16px; color: #333;\">Importer la bibliothèque pyfiglet qui permet de créer l'art ASCII à partir de texte.</p>\n",
    "\n",
    "    \n",
    "  <p style=\"background-color: #fafafa; padding: 10px; border-radius: 5px; font-family: 'Courier New', monospace; font-weight: bold; color: #333;\">\n",
    "    <span style=\"color: #d00000;\">pyfiglet.figlet_format</span>(<span style=\"color: #0077b6;\">input</span>(<span style=\"color: #0077b6;\">\"Entrez une phrase : \"</span>), font=<span style=\"color: #0077b6;\">\"block\"</span>)\n",
    "  </p>\n",
    "  <p style=\"font-size: 16px; color: #333;\">Convertir l'entrée de l'utilisateur en art ASCII</p> \n",
    "  \n",
    "\n",
    "  <p style=\"background-color: #fafafa; padding: 10px; border-radius: 5px; font-family: 'Courier New', monospace; font-weight: bold; color: #333;\">\n",
    "    <span style=\"color: #d00000;\">''.join(</span>\n",
    "    <span style=\"color: #0077b6;\">\" \"</span> <span style=\"color: #0077b6;\">si</span> char == <span style=\"color: #0077b6;\">' '</span> <span style=\"color: #0077b6;\">sinon</span>\n",
    "    <span style=\"color: #0077b6;\">'\\n'</span> <span style=\"color: #0077b6;\">si</span> char == <span style=\"color: #0077b6;\">'\\n'</span> <span style=\"color: #0077b6;\">sinon</span>\n",
    "    <span style=\"color: #0077b6;\">\"*\"</span>\n",
    "    <span style=\"color: #0077b6;\">pour</span> char <span style=\"color: #0077b6;\">dans</span> <span style=\"color: #d00000;\">pyfiglet.figlet_format</span>(...)\n",
    "    <span style=\"color: #d00000;\">)</span>\n",
    "  </p>\n",
    "  <p style=\"font-size: 16px; color: #333;\">Remplacer tous les caractères par * sauf les espaces et les retours à la ligne </p>\n",
    "\n",
    " <p style=\"background-color: #fafafa; padding: 10px; border-radius: 5px; font-family: 'Courier New', monospace; font-weight: bold; color: #333;\">\n",
    "    <span style=\"color: #0077b6;\">print</span>(<span style=\"color: #d00000;\">''.join(</span>...<span style=\"color: #d00000;\">)</span>)\n",
    "  </p>\n",
    "  <p style=\"font-size: 16px; color: #333;\">Afficher le résultat final en joignant les caractères ensemble.</p>\n",
    "</div>   "
   ]
  },
  {
   "cell_type": "code",
   "execution_count": 108,
   "id": "cc8ee9f5",
   "metadata": {},
   "outputs": [
    {
     "name": "stdout",
     "output_type": "stream",
     "text": [
      "                                        \n",
      "******      **  **  **                  \n",
      "  **        **      **  **      ****    \n",
      "  **        **  **  ****      ********  \n",
      "  **        **  **  **  **    **        \n",
      "******      **  **  **    **    ******  \n",
      "                                        \n",
      "                                        \n",
      "                                                                \n",
      "                                    **  **                      \n",
      "******      ****      ****      ******  **    ****      ******  \n",
      "**    **  **    **  **    **  **    **  **  ********  ****      \n",
      "**    **  **    **  **    **  **    **  **  **            ****  \n",
      "**    **    ****      ****      ******  **    ******  ******    \n",
      "                                                                \n",
      "                                                                \n",
      "\n"
     ]
    }
   ],
   "source": [
    "# I like noodles\n",
    "import pyfiglet\n",
    "print(''.join(\" \" if char == ' ' else '\\n' if char == '\\n' else \"*\" for char in\n",
    "              pyfiglet.figlet_format(\"I like noodles\", font=\"block\")))"
   ]
  },
  {
   "cell_type": "markdown",
   "id": "48839733",
   "metadata": {},
   "source": [
    "<div style=\"background-color: #ffe3ec; padding: 20px; border-radius: 15px; border: 1px solid #ddd; font-family: 'Comic Sans MS', cursive, sans-serif; line-height: 1.6;\"><p style=\"font-size: 18px; color: #333;\">Ouvrez le fichier .ipynb pour avoir le code executable.</p></div>"
   ]
  },
  {
   "cell_type": "code",
   "execution_count": null,
   "id": "a23e08cc",
   "metadata": {},
   "outputs": [],
   "source": [
    "# Essayez votre propre phrase ici\n",
    "import pyfiglet\n",
    "print(''.join(\" \" if char == ' ' else '\\n' if char == '\\n' else \"*\" for char in\n",
    "              pyfiglet.figlet_format(input(\"Enter a phrase: \")\n",
    ", font=\"block\")))"
   ]
  }
 ],
 "metadata": {
  "kernelspec": {
   "display_name": "Python 3",
   "language": "python",
   "name": "python3"
  }
 },
 "nbformat": 4,
 "nbformat_minor": 5
}
